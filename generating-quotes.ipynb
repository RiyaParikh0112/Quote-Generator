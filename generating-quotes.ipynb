{
 "cells": [
  {
   "cell_type": "markdown",
   "metadata": {
    "papermill": {
     "duration": 0.017962,
     "end_time": "2022-12-26T10:16:11.272434",
     "exception": false,
     "start_time": "2022-12-26T10:16:11.254472",
     "status": "completed"
    },
    "tags": []
   },
   "source": [
    "# **Generating Quotes using LSTM**"
   ]
  },
  {
   "cell_type": "code",
   "execution_count": 1,
   "metadata": {
    "execution": {
     "iopub.execute_input": "2022-12-26T10:16:11.311635Z",
     "iopub.status.busy": "2022-12-26T10:16:11.311026Z",
     "iopub.status.idle": "2022-12-26T10:16:12.505147Z",
     "shell.execute_reply": "2022-12-26T10:16:12.505748Z",
     "shell.execute_reply.started": "2022-12-26T09:59:19.343068Z"
    },
    "papermill": {
     "duration": 1.217192,
     "end_time": "2022-12-26T10:16:12.505990",
     "exception": false,
     "start_time": "2022-12-26T10:16:11.288798",
     "status": "completed"
    },
    "tags": []
   },
   "outputs": [
    {
     "name": "stderr",
     "output_type": "stream",
     "text": [
      "Using TensorFlow backend.\n"
     ]
    }
   ],
   "source": [
    "import pandas as pd\n",
    "import numpy as np\n",
    "import matplotlib.pyplot as plt\n",
    "import seaborn as sns\n",
    "import tensorflow\n",
    "\n",
    "from tensorflow import keras\n",
    "\n",
    "from keras import preprocessing\n",
    "from keras.preprocessing.text import Tokenizer\n",
    "from keras.preprocessing.sequence import pad_sequences\n",
    "from keras import layers\n",
    "from tensorflow.keras.layers import InputLayer\n",
    "from keras.models import Sequential\n",
    "import keras.utils as ku\n",
    "from keras.callbacks import EarlyStopping"
   ]
  },
  {
   "cell_type": "code",
   "execution_count": 2,
   "metadata": {
    "execution": {
     "iopub.execute_input": "2022-12-26T10:16:12.539590Z",
     "iopub.status.busy": "2022-12-26T10:16:12.539077Z",
     "iopub.status.idle": "2022-12-26T10:16:22.994283Z",
     "shell.execute_reply": "2022-12-26T10:16:22.993476Z",
     "shell.execute_reply.started": "2022-12-26T09:59:19.943428Z"
    },
    "papermill": {
     "duration": 10.472981,
     "end_time": "2022-12-26T10:16:22.994471",
     "exception": false,
     "start_time": "2022-12-26T10:16:12.521490",
     "status": "completed"
    },
    "tags": []
   },
   "outputs": [
    {
     "name": "stdout",
     "output_type": "stream",
     "text": [
      "Collecting keras\r\n",
      "  Downloading keras-2.11.0-py2.py3-none-any.whl (1.7 MB)\r\n",
      "\u001b[K     |████████████████████████████████| 1.7 MB 2.1 MB/s \r\n",
      "\u001b[?25hInstalling collected packages: keras\r\n",
      "  Attempting uninstall: keras\r\n",
      "    Found existing installation: Keras 2.4.0\r\n",
      "    Uninstalling Keras-2.4.0:\r\n",
      "      Successfully uninstalled Keras-2.4.0\r\n",
      "Successfully installed keras-2.11.0\r\n",
      "\u001b[33mWARNING: You are using pip version 20.1.1; however, version 22.3.1 is available.\r\n",
      "You should consider upgrading via the '/opt/conda/bin/python -m pip install --upgrade pip' command.\u001b[0m\r\n",
      "Note: you may need to restart the kernel to use updated packages.\n"
     ]
    }
   ],
   "source": [
    "pip install keras --upgrade\n"
   ]
  },
  {
   "cell_type": "code",
   "execution_count": 3,
   "metadata": {
    "execution": {
     "iopub.execute_input": "2022-12-26T10:16:23.073276Z",
     "iopub.status.busy": "2022-12-26T10:16:23.072556Z",
     "iopub.status.idle": "2022-12-26T10:16:24.138068Z",
     "shell.execute_reply": "2022-12-26T10:16:24.138646Z",
     "shell.execute_reply.started": "2022-12-26T09:59:29.151247Z"
    },
    "papermill": {
     "duration": 1.110859,
     "end_time": "2022-12-26T10:16:24.138790",
     "exception": false,
     "start_time": "2022-12-26T10:16:23.027931",
     "status": "completed"
    },
    "tags": []
   },
   "outputs": [
    {
     "name": "stdout",
     "output_type": "stream",
     "text": [
      "(48391, 5)\n"
     ]
    },
    {
     "data": {
      "text/html": [
       "<div>\n",
       "<style scoped>\n",
       "    .dataframe tbody tr th:only-of-type {\n",
       "        vertical-align: middle;\n",
       "    }\n",
       "\n",
       "    .dataframe tbody tr th {\n",
       "        vertical-align: top;\n",
       "    }\n",
       "\n",
       "    .dataframe thead th {\n",
       "        text-align: right;\n",
       "    }\n",
       "</style>\n",
       "<table border=\"1\" class=\"dataframe\">\n",
       "  <thead>\n",
       "    <tr style=\"text-align: right;\">\n",
       "      <th></th>\n",
       "      <th>Quote</th>\n",
       "      <th>Author</th>\n",
       "      <th>Tags</th>\n",
       "      <th>Popularity</th>\n",
       "      <th>Category</th>\n",
       "    </tr>\n",
       "  </thead>\n",
       "  <tbody>\n",
       "    <tr>\n",
       "      <th>0</th>\n",
       "      <td>Don't cry because it's over, smile because it ...</td>\n",
       "      <td>Dr. Seuss</td>\n",
       "      <td>[attributed-no-source, cry, crying, experience...</td>\n",
       "      <td>0.155666</td>\n",
       "      <td>life</td>\n",
       "    </tr>\n",
       "    <tr>\n",
       "      <th>1</th>\n",
       "      <td>Don't cry because it's over, smile because it ...</td>\n",
       "      <td>Dr. Seuss</td>\n",
       "      <td>[attributed-no-source, cry, crying, experience...</td>\n",
       "      <td>0.155666</td>\n",
       "      <td>happiness</td>\n",
       "    </tr>\n",
       "    <tr>\n",
       "      <th>2</th>\n",
       "      <td>I'm selfish, impatient and a little insecure. ...</td>\n",
       "      <td>Marilyn Monroe</td>\n",
       "      <td>[attributed-no-source, best, life, love, mista...</td>\n",
       "      <td>0.129122</td>\n",
       "      <td>love</td>\n",
       "    </tr>\n",
       "    <tr>\n",
       "      <th>3</th>\n",
       "      <td>I'm selfish, impatient and a little insecure. ...</td>\n",
       "      <td>Marilyn Monroe</td>\n",
       "      <td>[attributed-no-source, best, life, love, mista...</td>\n",
       "      <td>0.129122</td>\n",
       "      <td>life</td>\n",
       "    </tr>\n",
       "    <tr>\n",
       "      <th>4</th>\n",
       "      <td>I'm selfish, impatient and a little insecure. ...</td>\n",
       "      <td>Marilyn Monroe</td>\n",
       "      <td>[attributed-no-source, best, life, love, mista...</td>\n",
       "      <td>0.129122</td>\n",
       "      <td>truth</td>\n",
       "    </tr>\n",
       "  </tbody>\n",
       "</table>\n",
       "</div>"
      ],
      "text/plain": [
       "                                               Quote          Author  \\\n",
       "0  Don't cry because it's over, smile because it ...       Dr. Seuss   \n",
       "1  Don't cry because it's over, smile because it ...       Dr. Seuss   \n",
       "2  I'm selfish, impatient and a little insecure. ...  Marilyn Monroe   \n",
       "3  I'm selfish, impatient and a little insecure. ...  Marilyn Monroe   \n",
       "4  I'm selfish, impatient and a little insecure. ...  Marilyn Monroe   \n",
       "\n",
       "                                                Tags  Popularity   Category  \n",
       "0  [attributed-no-source, cry, crying, experience...    0.155666       life  \n",
       "1  [attributed-no-source, cry, crying, experience...    0.155666  happiness  \n",
       "2  [attributed-no-source, best, life, love, mista...    0.129122       love  \n",
       "3  [attributed-no-source, best, life, love, mista...    0.129122       life  \n",
       "4  [attributed-no-source, best, life, love, mista...    0.129122      truth  "
      ]
     },
     "execution_count": 3,
     "metadata": {},
     "output_type": "execute_result"
    }
   ],
   "source": [
    "# Loading the dataset\n",
    "data = pd.read_json('../input/quotes-dataset/quotes.json')\n",
    "print(data.shape)\n",
    "data.head()"
   ]
  },
  {
   "cell_type": "markdown",
   "metadata": {
    "papermill": {
     "duration": 0.017932,
     "end_time": "2022-12-26T10:16:24.176176",
     "exception": false,
     "start_time": "2022-12-26T10:16:24.158244",
     "status": "completed"
    },
    "tags": []
   },
   "source": [
    "The dataset has features such as:\n",
    "* Quote\n",
    "* Author\n",
    "* Tags\n",
    "* Popularity\n",
    "* Category\n",
    "\n",
    "But for our task at hand, we are interested in only the Quote feature of the dataset. If you look at the Quote column, a single quote is attributed to multiple categories such as life, happiness, etc. So, we will drop the duplicate quotes and consider only unique quotes."
   ]
  },
  {
   "cell_type": "code",
   "execution_count": 4,
   "metadata": {
    "execution": {
     "iopub.execute_input": "2022-12-26T10:16:24.228350Z",
     "iopub.status.busy": "2022-12-26T10:16:24.227460Z",
     "iopub.status.idle": "2022-12-26T10:16:24.238881Z",
     "shell.execute_reply": "2022-12-26T10:16:24.239347Z",
     "shell.execute_reply.started": "2022-12-26T09:59:30.032760Z"
    },
    "papermill": {
     "duration": 0.044867,
     "end_time": "2022-12-26T10:16:24.239470",
     "exception": false,
     "start_time": "2022-12-26T10:16:24.194603",
     "status": "completed"
    },
    "tags": []
   },
   "outputs": [
    {
     "name": "stdout",
     "output_type": "stream",
     "text": [
      "Total Unique Quotes: (36937,)\n",
      "Filtered Quotes: (3000,)\n"
     ]
    },
    {
     "data": {
      "text/plain": [
       "[\"I am not good at noticing when I'm happy, except in retrospect.\",\n",
       " 'Libraries should be open to all - except the censor.[Response to questionnaire in Saturday Review, October 29 1960]']"
      ]
     },
     "execution_count": 4,
     "metadata": {},
     "output_type": "execute_result"
    }
   ],
   "source": [
    "# Dropping duplicates and creating a list containing all the quotes\n",
    "quotes = data['Quote'].drop_duplicates()\n",
    "print(f\"Total Unique Quotes: {quotes.shape}\")\n",
    "\n",
    "# Considering only top 3000 quotes\n",
    "quotes_filt = quotes.sample(3000)\n",
    "print(f\"Filtered Quotes: {quotes_filt.shape}\")\n",
    "all_quotes = list(quotes_filt)\n",
    "all_quotes[:2]"
   ]
  },
  {
   "attachments": {
    "image.png": {
     "image/png": "[encoded data removed]"
    }
   },
   "cell_type": "markdown",
   "metadata": {
    "papermill": {
     "duration": 0.037386,
     "end_time": "2022-12-26T10:16:24.294565",
     "exception": false,
     "start_time": "2022-12-26T10:16:24.257179",
     "status": "completed"
    },
    "tags": []
   },
   "source": [
    "Next step is to preprocess and prepare the data for a Text Generation model. \n",
    "\n",
    "First, we will tokenize the text usign Keras **Tokenizer** class to create a vocabulary and convert the text into sequence of token indexes.\n",
    "\n",
    "There are two levels at which you can generate text:\n",
    "1. Character level\n",
    "2. Word level\n",
    "\n",
    "Here, first we will focus on word level text generation. Suppose, let's consider the quote **\"Don't cry because it's over, smile because it happened\"**, we have to prepare our data in the format below:\n",
    "![image.png](attachment:image.png)\n",
    "The reason why we need to prepare our data in such a way is very intuitive because, even when we write any piece of text, we will form sentences word by word i.e., the next word we write depends upon the previous words we have used. So, when we give the model sequences in this format, it will also try to learn the sequence and predict the next possible word exactly how we do."
   ]
  },
  {
   "cell_type": "code",
   "execution_count": 5,
   "metadata": {
    "execution": {
     "iopub.execute_input": "2022-12-26T10:16:24.393831Z",
     "iopub.status.busy": "2022-12-26T10:16:24.393079Z",
     "iopub.status.idle": "2022-12-26T10:16:24.873566Z",
     "shell.execute_reply": "2022-12-26T10:16:24.873133Z",
     "shell.execute_reply.started": "2022-12-26T09:59:30.062089Z"
    },
    "papermill": {
     "duration": 0.53234,
     "end_time": "2022-12-26T10:16:24.873672",
     "exception": false,
     "start_time": "2022-12-26T10:16:24.341332",
     "status": "completed"
    },
    "tags": []
   },
   "outputs": [
    {
     "name": "stdout",
     "output_type": "stream",
     "text": [
      "Total unique words in the text corpus: 9471\n"
     ]
    },
    {
     "data": {
      "text/plain": [
       "[[8, 97],\n",
       " [8, 97, 14],\n",
       " [8, 97, 14, 73],\n",
       " [8, 97, 14, 73, 44],\n",
       " [8, 97, 14, 73, 44, 3903]]"
      ]
     },
     "execution_count": 5,
     "metadata": {},
     "output_type": "execute_result"
    }
   ],
   "source": [
    "# Tokeinization\n",
    "tokenizer = Tokenizer()\n",
    "\n",
    "# Function to create the sequences\n",
    "def generate_sequences(corpus):\n",
    "    tokenizer.fit_on_texts(corpus)\n",
    "    total_words = len(tokenizer.word_index) + 1\n",
    "    print(f\"Total unique words in the text corpus: {total_words}\")\n",
    "    input_sequences = []\n",
    "    for line in corpus:\n",
    "        seq = tokenizer.texts_to_sequences([line])[0]\n",
    "        for i in range(1, len(seq)):\n",
    "            ngram_seq = seq[:i+1]\n",
    "            input_sequences.append(ngram_seq)\n",
    "            \n",
    "    return input_sequences, total_words\n",
    "\n",
    "# Generating sequences\n",
    "input_sequences, total_words = generate_sequences(all_quotes)\n",
    "input_sequences[:5]"
   ]
  },
  {
   "cell_type": "markdown",
   "metadata": {
    "papermill": {
     "duration": 0.018502,
     "end_time": "2022-12-26T10:16:24.911313",
     "exception": false,
     "start_time": "2022-12-26T10:16:24.892811",
     "status": "completed"
    },
    "tags": []
   },
   "source": [
    "Now that we have the data in required format, but each sequences are of different length. So, before feeding into the model, we will first pad the sequences to same length.\n",
    "\n",
    "Also, we need to create predictor and label from the prepared sequences by taking all the tokens except the last one as predictors and the last token as label (For example, think of it like the data in the above table: \"Don't cry\" as predictors and \"because\" as label)."
   ]
  },
  {
   "cell_type": "code",
   "execution_count": 6,
   "metadata": {
    "execution": {
     "iopub.execute_input": "2022-12-26T10:16:24.960380Z",
     "iopub.status.busy": "2022-12-26T10:16:24.955235Z",
     "iopub.status.idle": "2022-12-26T10:16:25.472589Z",
     "shell.execute_reply": "2022-12-26T10:16:25.472141Z",
     "shell.execute_reply.started": "2022-12-26T09:59:30.416081Z"
    },
    "papermill": {
     "duration": 0.543192,
     "end_time": "2022-12-26T10:16:25.472696",
     "exception": false,
     "start_time": "2022-12-26T10:16:24.929504",
     "status": "completed"
    },
    "tags": []
   },
   "outputs": [
    {
     "data": {
      "text/plain": [
       "(array([[0, 0, 0, 0, 0, 0, 0, 0, 0, 0, 0, 0, 0, 0, 0, 0, 0, 0, 0, 0, 0, 0,\n",
       "         0, 0, 0, 0, 0, 0, 0, 0, 0, 0, 0, 0, 0, 0, 0, 0, 0, 0, 0, 0, 0, 0,\n",
       "         0, 0, 0, 0, 0, 0, 0, 0, 0, 0, 0, 0, 0, 0, 0, 0, 0, 0, 0, 0, 0, 0,\n",
       "         0, 0, 0, 0, 0, 0, 0, 0, 0, 0, 0, 0, 0, 0, 0, 0, 0, 0, 8]],\n",
       "       dtype=int32),\n",
       " array([[0., 0., 0., ..., 0., 0., 0.]], dtype=float32))"
      ]
     },
     "execution_count": 6,
     "metadata": {},
     "output_type": "execute_result"
    }
   ],
   "source": [
    "# Generating predictors and labels from the padded sequences\n",
    "def generate_input_sequence(input_sequences):\n",
    "    maxlen = max([len(x) for x in input_sequences])\n",
    "    input_sequences = pad_sequences(input_sequences, maxlen=maxlen)\n",
    "    predictors, label = input_sequences[:, :-1], input_sequences[:, -1]\n",
    "    label = ku.to_categorical(label, num_classes=total_words)\n",
    "    return predictors, label, maxlen\n",
    "\n",
    "predictors, label, maxlen = generate_input_sequence(input_sequences)\n",
    "predictors[:1], label[:1]"
   ]
  },
  {
   "cell_type": "markdown",
   "metadata": {
    "papermill": {
     "duration": 0.018855,
     "end_time": "2022-12-26T10:16:25.511297",
     "exception": false,
     "start_time": "2022-12-26T10:16:25.492442",
     "status": "completed"
    },
    "tags": []
   },
   "source": [
    "Finally, we are done with the preprocessing part of task. Now, we will start building our LSTM model for text generation. You can think of this model as a multiclass text classification task- given the previous words, the model will predict the next word which has high probability.\n",
    "\n",
    "**Model Architecture:**\n",
    "* Embedding layer with the embedding dimension of 64\n",
    "* LSTM Layer with 128 units with dropout\n",
    "* A dense layer with number of units equal to the total words in the vocabulary with **softmax** activation since it is a mulitclass classification task.\n",
    "* The optimizer we use here is **Adam**, loss is **categorical_crossentropy**, and an epoch of 50."
   ]
  },
  {
   "cell_type": "code",
   "execution_count": 7,
   "metadata": {
    "execution": {
     "iopub.execute_input": "2022-12-26T10:16:25.555215Z",
     "iopub.status.busy": "2022-12-26T10:16:25.554538Z",
     "iopub.status.idle": "2022-12-26T10:16:30.576223Z",
     "shell.execute_reply": "2022-12-26T10:16:30.576686Z",
     "shell.execute_reply.started": "2022-12-26T09:59:30.938493Z"
    },
    "papermill": {
     "duration": 5.046959,
     "end_time": "2022-12-26T10:16:30.576819",
     "exception": false,
     "start_time": "2022-12-26T10:16:25.529860",
     "status": "completed"
    },
    "tags": []
   },
   "outputs": [
    {
     "name": "stdout",
     "output_type": "stream",
     "text": [
      "Model: \"sequential\"\n",
      "_________________________________________________________________\n",
      "Layer (type)                 Output Shape              Param #   \n",
      "=================================================================\n",
      "embedding (Embedding)        (None, 86, 64)            606144    \n",
      "_________________________________________________________________\n",
      "lstm (LSTM)                  (None, 128)               98816     \n",
      "_________________________________________________________________\n",
      "dense (Dense)                (None, 9471)              1221759   \n",
      "=================================================================\n",
      "Total params: 1,926,719\n",
      "Trainable params: 1,926,719\n",
      "Non-trainable params: 0\n",
      "_________________________________________________________________\n"
     ]
    }
   ],
   "source": [
    "# Building the model\n",
    "embedding_dim = 64\n",
    "\n",
    "def create_model(maxlen, embedding_dim, total_words):\n",
    "    model = Sequential()\n",
    "    model.add(layers.Embedding(total_words, embedding_dim, input_length = maxlen))\n",
    "    model.add(layers.LSTM(128, dropout=0.2))\n",
    "    model.add(layers.Dense(total_words, activation='softmax'))\n",
    "    \n",
    "    # compiling the model\n",
    "    model.compile(loss='categorical_crossentropy', optimizer='adam')\n",
    "    return model\n",
    "\n",
    "model = create_model(maxlen, embedding_dim, total_words)\n",
    "model.summary()"
   ]
  },
  {
   "cell_type": "code",
   "execution_count": 8,
   "metadata": {
    "execution": {
     "iopub.execute_input": "2022-12-26T10:16:30.624759Z",
     "iopub.status.busy": "2022-12-26T10:16:30.624091Z",
     "iopub.status.idle": "2022-12-26T10:16:30.628661Z",
     "shell.execute_reply": "2022-12-26T10:16:30.628089Z",
     "shell.execute_reply.started": "2022-12-26T09:59:34.492731Z"
    },
    "papermill": {
     "duration": 0.030098,
     "end_time": "2022-12-26T10:16:30.628764",
     "exception": false,
     "start_time": "2022-12-26T10:16:30.598666",
     "status": "completed"
    },
    "tags": []
   },
   "outputs": [
    {
     "data": {
      "text/plain": [
       "((74258, 85), (74258, 9471), 86)"
      ]
     },
     "execution_count": 8,
     "metadata": {},
     "output_type": "execute_result"
    }
   ],
   "source": [
    "predictors.shape , label.shape, maxlen"
   ]
  },
  {
   "cell_type": "code",
   "execution_count": 9,
   "metadata": {
    "execution": {
     "iopub.execute_input": "2022-12-26T10:16:30.675437Z",
     "iopub.status.busy": "2022-12-26T10:16:30.674314Z",
     "iopub.status.idle": "2022-12-26T10:30:10.453080Z",
     "shell.execute_reply": "2022-12-26T10:30:10.452429Z",
     "shell.execute_reply.started": "2022-12-26T09:59:34.501502Z"
    },
    "papermill": {
     "duration": 819.804018,
     "end_time": "2022-12-26T10:30:10.453278",
     "exception": false,
     "start_time": "2022-12-26T10:16:30.649260",
     "status": "completed"
    },
    "tags": []
   },
   "outputs": [
    {
     "name": "stdout",
     "output_type": "stream",
     "text": [
      "Epoch 1/50\n",
      "1161/1161 [==============================] - 16s 14ms/step - loss: 6.9039\n",
      "Epoch 2/50\n",
      "1161/1161 [==============================] - 16s 14ms/step - loss: 6.3975\n",
      "Epoch 3/50\n",
      "1161/1161 [==============================] - 17s 14ms/step - loss: 6.0619\n",
      "Epoch 4/50\n",
      "1161/1161 [==============================] - 16s 14ms/step - loss: 5.7988\n",
      "Epoch 5/50\n",
      "1161/1161 [==============================] - 16s 14ms/step - loss: 5.5638\n",
      "Epoch 6/50\n",
      "1161/1161 [==============================] - 16s 13ms/step - loss: 5.3365\n",
      "Epoch 7/50\n",
      "1161/1161 [==============================] - 16s 14ms/step - loss: 5.1184\n",
      "Epoch 8/50\n",
      "1161/1161 [==============================] - 16s 14ms/step - loss: 4.9083\n",
      "Epoch 9/50\n",
      "1161/1161 [==============================] - 16s 14ms/step - loss: 4.7080\n",
      "Epoch 10/50\n",
      "1161/1161 [==============================] - 16s 14ms/step - loss: 4.5163\n",
      "Epoch 11/50\n",
      "1161/1161 [==============================] - 16s 14ms/step - loss: 4.3357\n",
      "Epoch 12/50\n",
      "1161/1161 [==============================] - 16s 14ms/step - loss: 4.1642\n",
      "Epoch 13/50\n",
      "1161/1161 [==============================] - 17s 14ms/step - loss: 4.0055\n",
      "Epoch 14/50\n",
      "1161/1161 [==============================] - 16s 13ms/step - loss: 3.8586\n",
      "Epoch 15/50\n",
      "1161/1161 [==============================] - 17s 14ms/step - loss: 3.7243\n",
      "Epoch 16/50\n",
      "1161/1161 [==============================] - 16s 13ms/step - loss: 3.6017\n",
      "Epoch 17/50\n",
      "1161/1161 [==============================] - 17s 14ms/step - loss: 3.4907\n",
      "Epoch 18/50\n",
      "1161/1161 [==============================] - 16s 13ms/step - loss: 3.3901\n",
      "Epoch 19/50\n",
      "1161/1161 [==============================] - 17s 14ms/step - loss: 3.2992\n",
      "Epoch 20/50\n",
      "1161/1161 [==============================] - 16s 13ms/step - loss: 3.2138\n",
      "Epoch 21/50\n",
      "1161/1161 [==============================] - 17s 14ms/step - loss: 3.1333\n",
      "Epoch 22/50\n",
      "1161/1161 [==============================] - 16s 14ms/step - loss: 3.0606\n",
      "Epoch 23/50\n",
      "1161/1161 [==============================] - 17s 15ms/step - loss: 2.9881\n",
      "Epoch 24/50\n",
      "1161/1161 [==============================] - 16s 14ms/step - loss: 2.9231\n",
      "Epoch 25/50\n",
      "1161/1161 [==============================] - 16s 14ms/step - loss: 2.8669\n",
      "Epoch 26/50\n",
      "1161/1161 [==============================] - 16s 14ms/step - loss: 2.8132\n",
      "Epoch 27/50\n",
      "1161/1161 [==============================] - 16s 14ms/step - loss: 2.7550\n",
      "Epoch 28/50\n",
      "1161/1161 [==============================] - 16s 14ms/step - loss: 2.7053\n",
      "Epoch 29/50\n",
      "1161/1161 [==============================] - 16s 14ms/step - loss: 2.6600\n",
      "Epoch 30/50\n",
      "1161/1161 [==============================] - 17s 14ms/step - loss: 2.6137\n",
      "Epoch 31/50\n",
      "1161/1161 [==============================] - 16s 14ms/step - loss: 2.5711\n",
      "Epoch 32/50\n",
      "1161/1161 [==============================] - 16s 14ms/step - loss: 2.5302\n",
      "Epoch 33/50\n",
      "1161/1161 [==============================] - 16s 14ms/step - loss: 2.4895\n",
      "Epoch 34/50\n",
      "1161/1161 [==============================] - 16s 14ms/step - loss: 2.4564\n",
      "Epoch 35/50\n",
      "1161/1161 [==============================] - 16s 14ms/step - loss: 2.4225\n",
      "Epoch 36/50\n",
      "1161/1161 [==============================] - 16s 14ms/step - loss: 2.3823\n",
      "Epoch 37/50\n",
      "1161/1161 [==============================] - 17s 15ms/step - loss: 2.3541\n",
      "Epoch 38/50\n",
      "1161/1161 [==============================] - 16s 14ms/step - loss: 2.3251\n",
      "Epoch 39/50\n",
      "1161/1161 [==============================] - 17s 14ms/step - loss: 2.2923\n",
      "Epoch 40/50\n",
      "1161/1161 [==============================] - 16s 14ms/step - loss: 2.2614\n",
      "Epoch 41/50\n",
      "1161/1161 [==============================] - 17s 14ms/step - loss: 2.2402\n",
      "Epoch 42/50\n",
      "1161/1161 [==============================] - 16s 14ms/step - loss: 2.2099\n",
      "Epoch 43/50\n",
      "1161/1161 [==============================] - 16s 14ms/step - loss: 2.1847\n",
      "Epoch 44/50\n",
      "1161/1161 [==============================] - 17s 14ms/step - loss: 2.1661\n",
      "Epoch 45/50\n",
      "1161/1161 [==============================] - 15s 13ms/step - loss: 2.1410\n",
      "Epoch 46/50\n",
      "1161/1161 [==============================] - 16s 14ms/step - loss: 2.1237\n",
      "Epoch 47/50\n",
      "1161/1161 [==============================] - 15s 13ms/step - loss: 2.0955\n",
      "Epoch 48/50\n",
      "1161/1161 [==============================] - 18s 15ms/step - loss: 2.0763\n",
      "Epoch 49/50\n",
      "1161/1161 [==============================] - 15s 13ms/step - loss: 2.0557\n",
      "Epoch 50/50\n",
      "1161/1161 [==============================] - 16s 14ms/step - loss: 2.0363\n"
     ]
    },
    {
     "data": {
      "text/plain": [
       "<tensorflow.python.keras.callbacks.History at 0x7f098dd00090>"
      ]
     },
     "execution_count": 9,
     "metadata": {},
     "output_type": "execute_result"
    }
   ],
   "source": [
    "#Training the model\n",
    "model.fit(predictors, label, epochs=50, batch_size=64)"
   ]
  },
  {
   "cell_type": "code",
   "execution_count": 10,
   "metadata": {
    "execution": {
     "iopub.execute_input": "2022-12-26T10:30:17.965311Z",
     "iopub.status.busy": "2022-12-26T10:30:17.964407Z",
     "iopub.status.idle": "2022-12-26T10:30:18.017486Z",
     "shell.execute_reply": "2022-12-26T10:30:18.017026Z",
     "shell.execute_reply.started": "2022-12-26T10:12:28.600155Z"
    },
    "papermill": {
     "duration": 3.796129,
     "end_time": "2022-12-26T10:30:18.017597",
     "exception": false,
     "start_time": "2022-12-26T10:30:14.221468",
     "status": "completed"
    },
    "tags": []
   },
   "outputs": [],
   "source": [
    "# Save the model for later use\n",
    "model.save(\"Quotes_generator.h5\")"
   ]
  },
  {
   "cell_type": "code",
   "execution_count": 11,
   "metadata": {
    "execution": {
     "iopub.execute_input": "2022-12-26T10:30:25.661432Z",
     "iopub.status.busy": "2022-12-26T10:30:25.660559Z",
     "iopub.status.idle": "2022-12-26T10:30:25.972608Z",
     "shell.execute_reply": "2022-12-26T10:30:25.971794Z",
     "shell.execute_reply.started": "2022-12-26T10:13:03.628152Z"
    },
    "papermill": {
     "duration": 3.984069,
     "end_time": "2022-12-26T10:30:25.972721",
     "exception": false,
     "start_time": "2022-12-26T10:30:21.988652",
     "status": "completed"
    },
    "tags": []
   },
   "outputs": [],
   "source": [
    "# Loading the model\n",
    "from keras.models import load_model\n",
    "\n",
    "Quotes_gen = load_model(\"../working/Quotes_generator.h5\")"
   ]
  },
  {
   "cell_type": "code",
   "execution_count": 12,
   "metadata": {
    "execution": {
     "iopub.execute_input": "2022-12-26T10:30:33.602814Z",
     "iopub.status.busy": "2022-12-26T10:30:33.600198Z",
     "iopub.status.idle": "2022-12-26T10:30:33.605852Z",
     "shell.execute_reply": "2022-12-26T10:30:33.605387Z",
     "shell.execute_reply.started": "2022-12-26T10:13:17.692956Z"
    },
    "papermill": {
     "duration": 3.963547,
     "end_time": "2022-12-26T10:30:33.605972",
     "exception": false,
     "start_time": "2022-12-26T10:30:29.642425",
     "status": "completed"
    },
    "tags": []
   },
   "outputs": [
    {
     "name": "stdout",
     "output_type": "stream",
     "text": [
      "Model: \"sequential\"\n",
      "_________________________________________________________________\n",
      "Layer (type)                 Output Shape              Param #   \n",
      "=================================================================\n",
      "embedding (Embedding)        (None, 86, 64)            606144    \n",
      "_________________________________________________________________\n",
      "lstm (LSTM)                  (None, 128)               98816     \n",
      "_________________________________________________________________\n",
      "dense (Dense)                (None, 9471)              1221759   \n",
      "=================================================================\n",
      "Total params: 1,926,719\n",
      "Trainable params: 1,926,719\n",
      "Non-trainable params: 0\n",
      "_________________________________________________________________\n"
     ]
    }
   ],
   "source": [
    "Quotes_gen.summary()"
   ]
  },
  {
   "cell_type": "markdown",
   "metadata": {
    "papermill": {
     "duration": 3.724685,
     "end_time": "2022-12-26T10:30:41.505589",
     "exception": false,
     "start_time": "2022-12-26T10:30:37.780904",
     "status": "completed"
    },
    "tags": []
   },
   "source": [
    "Now that we have our trained model, we will create a function to generate text.\n",
    "\n",
    "The function takes in the trained model, the input words (also called seed text), how many words to genereate and maximum squence length. The function then tokenize the text, padds it and predict using our trained model.\n",
    "\n",
    "The model predicts one word at a time. So after every prediction, we will get the word for the predicted label and append it to the seed_text. This process continues for the specified number of words you want to genereate. And once it is done, the text will then be returned.\n"
   ]
  },
  {
   "cell_type": "code",
   "execution_count": 13,
   "metadata": {
    "execution": {
     "iopub.execute_input": "2022-12-26T10:30:49.219315Z",
     "iopub.status.busy": "2022-12-26T10:30:49.217443Z",
     "iopub.status.idle": "2022-12-26T10:30:49.219915Z",
     "shell.execute_reply": "2022-12-26T10:30:49.220341Z",
     "shell.execute_reply.started": "2022-12-26T10:13:21.347132Z"
    },
    "papermill": {
     "duration": 3.718387,
     "end_time": "2022-12-26T10:30:49.220467",
     "exception": false,
     "start_time": "2022-12-26T10:30:45.502080",
     "status": "completed"
    },
    "tags": []
   },
   "outputs": [],
   "source": [
    "# Text generating function\n",
    "def generate_quote(seed_text, num_words, model, maxlen):\n",
    "    \n",
    "    for _ in range(num_words):\n",
    "        tokens = tokenizer.texts_to_sequences([seed_text])[0]\n",
    "        tokens = pad_sequences([tokens], maxlen=maxlen, padding='pre')\n",
    "        \n",
    "        predicted = model.predict_classes(tokens)\n",
    "        \n",
    "        output_word = ''\n",
    "        \n",
    "        for word, index in tokenizer.word_index.items():\n",
    "            if index == predicted:\n",
    "                output_word = word\n",
    "                break\n",
    "        seed_text = seed_text + \" \" + output_word\n",
    "    \n",
    "    return seed_text"
   ]
  },
  {
   "cell_type": "code",
   "execution_count": 14,
   "metadata": {
    "execution": {
     "iopub.execute_input": "2022-12-26T10:30:56.961427Z",
     "iopub.status.busy": "2022-12-26T10:30:56.960614Z",
     "iopub.status.idle": "2022-12-26T10:30:57.537746Z",
     "shell.execute_reply": "2022-12-26T10:30:57.537004Z",
     "shell.execute_reply.started": "2022-12-26T10:13:22.686707Z"
    },
    "papermill": {
     "duration": 4.546682,
     "end_time": "2022-12-26T10:30:57.537879",
     "exception": false,
     "start_time": "2022-12-26T10:30:52.991197",
     "status": "completed"
    },
    "tags": []
   },
   "outputs": [
    {
     "name": "stdout",
     "output_type": "stream",
     "text": [
      "Passion is a faucet when it is the most potent education\n"
     ]
    }
   ],
   "source": [
    "# Let's try to generate some quotes\n",
    "print(generate_quote(\"Passion\", num_words = 10, model= Quotes_gen, maxlen=maxlen))"
   ]
  },
  {
   "cell_type": "code",
   "execution_count": 15,
   "metadata": {
    "execution": {
     "iopub.execute_input": "2022-12-26T10:31:05.120324Z",
     "iopub.status.busy": "2022-12-26T10:31:05.119458Z",
     "iopub.status.idle": "2022-12-26T10:31:05.583301Z",
     "shell.execute_reply": "2022-12-26T10:31:05.583874Z",
     "shell.execute_reply.started": "2022-12-26T10:13:29.178732Z"
    },
    "papermill": {
     "duration": 4.383116,
     "end_time": "2022-12-26T10:31:05.584058",
     "exception": false,
     "start_time": "2022-12-26T10:31:01.200942",
     "status": "completed"
    },
    "tags": []
   },
   "outputs": [
    {
     "name": "stdout",
     "output_type": "stream",
     "text": [
      "Love is the only thing of the soul which prevents it possible for the truth to avoid the world without a\n"
     ]
    }
   ],
   "source": [
    "print(generate_quote(\"Love\", num_words = 20, model= Quotes_gen, maxlen=maxlen))"
   ]
  },
  {
   "cell_type": "code",
   "execution_count": 16,
   "metadata": {
    "execution": {
     "iopub.execute_input": "2022-12-26T10:31:13.501935Z",
     "iopub.status.busy": "2022-12-26T10:31:13.501093Z",
     "iopub.status.idle": "2022-12-26T10:31:13.853338Z",
     "shell.execute_reply": "2022-12-26T10:31:13.852707Z",
     "shell.execute_reply.started": "2022-12-26T10:13:30.513100Z"
    },
    "papermill": {
     "duration": 4.078687,
     "end_time": "2022-12-26T10:31:13.853458",
     "exception": false,
     "start_time": "2022-12-26T10:31:09.774771",
     "status": "completed"
    },
    "tags": []
   },
   "outputs": [
    {
     "name": "stdout",
     "output_type": "stream",
     "text": [
      "legend who has ever been ashamed of anything could appreciate me illusions don’t mean i want\n"
     ]
    }
   ],
   "source": [
    "print(generate_quote(\"legend\", num_words = 15, model= Quotes_gen, maxlen=maxlen))"
   ]
  },
  {
   "cell_type": "code",
   "execution_count": 17,
   "metadata": {
    "execution": {
     "iopub.execute_input": "2022-12-26T10:31:21.566515Z",
     "iopub.status.busy": "2022-12-26T10:31:21.565587Z",
     "iopub.status.idle": "2022-12-26T10:31:21.904067Z",
     "shell.execute_reply": "2022-12-26T10:31:21.903565Z",
     "shell.execute_reply.started": "2022-12-26T10:13:31.219245Z"
    },
    "papermill": {
     "duration": 4.053714,
     "end_time": "2022-12-26T10:31:21.904189",
     "exception": false,
     "start_time": "2022-12-26T10:31:17.850475",
     "status": "completed"
    },
    "tags": []
   },
   "outputs": [
    {
     "name": "stdout",
     "output_type": "stream",
     "text": [
      "consistency matters is the word of the imagination of the enemy whoever lives for the truth is\n"
     ]
    }
   ],
   "source": [
    "print(generate_quote(\"consistency matters\", num_words = 15, model= Quotes_gen, maxlen=maxlen))"
   ]
  },
  {
   "cell_type": "code",
   "execution_count": 18,
   "metadata": {
    "execution": {
     "iopub.execute_input": "2022-12-26T10:31:29.511093Z",
     "iopub.status.busy": "2022-12-26T10:31:29.510160Z",
     "iopub.status.idle": "2022-12-26T10:31:29.987226Z",
     "shell.execute_reply": "2022-12-26T10:31:29.987621Z",
     "shell.execute_reply.started": "2022-12-26T10:13:32.187385Z"
    },
    "papermill": {
     "duration": 4.428416,
     "end_time": "2022-12-26T10:31:29.987757",
     "exception": false,
     "start_time": "2022-12-26T10:31:25.559341",
     "status": "completed"
    },
    "tags": []
   },
   "outputs": [
    {
     "name": "stdout",
     "output_type": "stream",
     "text": [
      "Follow your passion and your choice then you can’t lock myself into the imprisonment of past grudges and anger simplify and the other\n"
     ]
    }
   ],
   "source": [
    "print(generate_quote(\"Follow your passion\", num_words = 20, model= Quotes_gen, maxlen=maxlen))"
   ]
  },
  {
   "cell_type": "code",
   "execution_count": null,
   "metadata": {
    "papermill": {
     "duration": 3.766821,
     "end_time": "2022-12-26T10:31:37.472411",
     "exception": false,
     "start_time": "2022-12-26T10:31:33.705590",
     "status": "completed"
    },
    "tags": []
   },
   "outputs": [],
   "source": []
  }
 ],
 "metadata": {
  "kernelspec": {
   "display_name": "Python 3",
   "language": "python",
   "name": "python3"
  },
  "language_info": {
   "codemirror_mode": {
    "name": "ipython",
    "version": 3
   },
   "file_extension": ".py",
   "mimetype": "text/x-python",
   "name": "python",
   "nbconvert_exporter": "python",
   "pygments_lexer": "ipython3",
   "version": "3.7.6"
  },
  "papermill": {
   "duration": 946.03764,
   "end_time": "2022-12-26T10:31:42.348693",
   "environment_variables": {},
   "exception": null,
   "input_path": "__notebook__.ipynb",
   "output_path": "__notebook__.ipynb",
   "parameters": {},
   "start_time": "2022-12-26T10:15:56.311053",
   "version": "2.1.0"
  }
 },
 "nbformat": 4,
 "nbformat_minor": 4
}
